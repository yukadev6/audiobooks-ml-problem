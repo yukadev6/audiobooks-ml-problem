{
 "cells": [
  {
   "cell_type": "code",
   "execution_count": 1,
   "id": "a8caf7f0",
   "metadata": {},
   "outputs": [],
   "source": [
    "import numpy as np\n",
    "import tensorflow as tf\n",
    "\n",
    "import os\n",
    "os.environ['KMP_DUPLICATE_LIB_OK']='True'"
   ]
  },
  {
   "cell_type": "code",
   "execution_count": 2,
   "id": "147ae216",
   "metadata": {},
   "outputs": [],
   "source": [
    "# Temporary varialble npz to store each of the three Audiobooks datasets\n",
    "npz = np.load('Audiobooks_data_train.npz')\n",
    "train_inputs, train_targets = npz['inputs'].astype(np.float), npz['targets'].astype(np.int)\n",
    "\n",
    "npz = np.load('Audiobooks_data_validation.npz')\n",
    "validation_inputs, validation_targets = npz['inputs'].astype(np.float), npz['targets'].astype(np.int)\n",
    "\n",
    "npz = np.load('Audiobooks_data_test.npz')\n",
    "test_inputs, test_targets = npz['inputs'].astype(np.float), npz['targets'].astype(np.int)"
   ]
  },
  {
   "cell_type": "code",
   "execution_count": 3,
   "id": "698397ba",
   "metadata": {},
   "outputs": [
    {
     "name": "stdout",
     "output_type": "stream",
     "text": [
      "Train on 3579 samples, validate on 447 samples\n",
      "Epoch 1/100\n",
      "3579/3579 - 1s - loss: 0.5876 - accuracy: 0.6994 - val_loss: 0.4946 - val_accuracy: 0.7405\n",
      "Epoch 2/100\n",
      "3579/3579 - 0s - loss: 0.4623 - accuracy: 0.7678 - val_loss: 0.4315 - val_accuracy: 0.7808\n",
      "Epoch 3/100\n",
      "3579/3579 - 0s - loss: 0.4195 - accuracy: 0.7790 - val_loss: 0.4115 - val_accuracy: 0.7852\n",
      "Epoch 4/100\n",
      "3579/3579 - 0s - loss: 0.3990 - accuracy: 0.7910 - val_loss: 0.3943 - val_accuracy: 0.8009\n",
      "Epoch 5/100\n",
      "3579/3579 - 0s - loss: 0.3888 - accuracy: 0.7941 - val_loss: 0.3874 - val_accuracy: 0.8031\n",
      "Epoch 6/100\n",
      "3579/3579 - 0s - loss: 0.3785 - accuracy: 0.7997 - val_loss: 0.3787 - val_accuracy: 0.8143\n",
      "Epoch 7/100\n",
      "3579/3579 - 0s - loss: 0.3756 - accuracy: 0.8025 - val_loss: 0.3711 - val_accuracy: 0.8054\n",
      "Epoch 8/100\n",
      "3579/3579 - 0s - loss: 0.3705 - accuracy: 0.8011 - val_loss: 0.3687 - val_accuracy: 0.8166\n",
      "Epoch 9/100\n",
      "3579/3579 - 0s - loss: 0.3688 - accuracy: 0.8013 - val_loss: 0.3730 - val_accuracy: 0.8143\n",
      "Epoch 10/100\n",
      "3579/3579 - 0s - loss: 0.3629 - accuracy: 0.8033 - val_loss: 0.3655 - val_accuracy: 0.8166\n",
      "Epoch 11/100\n",
      "3579/3579 - 0s - loss: 0.3597 - accuracy: 0.8061 - val_loss: 0.3630 - val_accuracy: 0.8188\n",
      "Epoch 12/100\n",
      "3579/3579 - 0s - loss: 0.3606 - accuracy: 0.8011 - val_loss: 0.3630 - val_accuracy: 0.8255\n",
      "Epoch 13/100\n",
      "3579/3579 - 0s - loss: 0.3597 - accuracy: 0.8064 - val_loss: 0.3640 - val_accuracy: 0.8076\n",
      "Epoch 14/100\n",
      "3579/3579 - 0s - loss: 0.3575 - accuracy: 0.8075 - val_loss: 0.3655 - val_accuracy: 0.8076\n"
     ]
    },
    {
     "data": {
      "text/plain": [
       "<tensorflow.python.keras.callbacks.History at 0x7f80aca8c310>"
      ]
     },
     "execution_count": 3,
     "metadata": {},
     "output_type": "execute_result"
    }
   ],
   "source": [
    "# Set the input and output sizes\n",
    "input_size = 10\n",
    "output_size = 2\n",
    "# Set hidden layer size \n",
    "hidden_layer_size = 100\n",
    "    \n",
    "# define model\n",
    "model = tf.keras.Sequential([\n",
    "    tf.keras.layers.Dense(hidden_layer_size, activation='relu'),\n",
    "    tf.keras.layers.Dense(hidden_layer_size, activation='relu'),\n",
    "    # the final layer activate with softmax\n",
    "    tf.keras.layers.Dense(output_size, activation='softmax') \n",
    "])\n",
    "\n",
    "\n",
    "# Choose the optimizer, the loss function, and metrics\n",
    "model.compile(optimizer='adam', loss='sparse_categorical_crossentropy', metrics=['accuracy'])\n",
    "\n",
    "\n",
    "# set the batch size for training\n",
    "batch_size = 400\n",
    "\n",
    "# set maximum number of training epochs\n",
    "max_epochs = 100\n",
    "\n",
    "# set an early stopping mechanism\n",
    "early_stopping = tf.keras.callbacks.EarlyStopping(patience=2)\n",
    "\n",
    "# fit the model\n",
    "model.fit(train_inputs, \n",
    "          train_targets, \n",
    "          batch_size=batch_size, \n",
    "          epochs=max_epochs,\n",
    "          callbacks=[early_stopping], \n",
    "          validation_data=(validation_inputs, validation_targets), \n",
    "          verbose = 2 \n",
    "          )  "
   ]
  },
  {
   "cell_type": "code",
   "execution_count": null,
   "id": "53abde92",
   "metadata": {},
   "outputs": [],
   "source": [
    "# Test the model\n",
    "test_loss, test_accuracy = model.evaluate(test_inputs, test_targets)\n",
    "print('\\nTest loss: {0:.2f}. Test accuracy: {1:.2f}%'.format(test_loss, test_accuracy*100.))"
   ]
  }
 ],
 "metadata": {
  "kernelspec": {
   "display_name": "py3TF2.0",
   "language": "python",
   "name": "py3tf2.0"
  },
  "language_info": {
   "codemirror_mode": {
    "name": "ipython",
    "version": 3
   },
   "file_extension": ".py",
   "mimetype": "text/x-python",
   "name": "python",
   "nbconvert_exporter": "python",
   "pygments_lexer": "ipython3",
   "version": "3.7.10"
  }
 },
 "nbformat": 4,
 "nbformat_minor": 5
}
