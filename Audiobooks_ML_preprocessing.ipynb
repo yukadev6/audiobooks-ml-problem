{
 "cells": [
  {
   "cell_type": "code",
   "execution_count": 1,
   "id": "e21ded96",
   "metadata": {},
   "outputs": [],
   "source": [
    "import numpy as np\n",
    "\n",
    "from sklearn import preprocessing\n",
    "\n",
    "# Load data\n",
    "raw_csv_data = np.loadtxt('Audiobooks_data.csv',delimiter=',')\n",
    "\n",
    "# Select inputs as all columns except the first and last column from dataset\n",
    "unscaled_inputs_all = raw_csv_data[:,1:-1]\n",
    "\n",
    "# Select targets as last column from dataset\n",
    "targets_all = raw_csv_data[:,-1]"
   ]
  },
  {
   "cell_type": "code",
   "execution_count": 2,
   "id": "2f87edfa",
   "metadata": {},
   "outputs": [],
   "source": [
    "# Shuffle indices before balancing the dataset\n",
    "shuffled_indices = np.arange(unscaled_inputs_all.shape[0])\n",
    "np.random.shuffle(shuffled_indices)\n",
    "\n",
    "# Use the shuffled indices to shuffle the unscaled inputs and targets.\n",
    "shuffled_unscaled_inputs_all = unscaled_inputs_all[shuffled_indices]\n",
    "shuffled_targets_all = targets_all[shuffled_indices]"
   ]
  },
  {
   "cell_type": "code",
   "execution_count": 3,
   "id": "2335fc10",
   "metadata": {},
   "outputs": [],
   "source": [
    "# Count number of targets that are 1 \n",
    "num_one_targets = int(np.sum(shuffled_targets_all))\n",
    "\n",
    "# Set a counter for targets that are 0 \n",
    "zero_targets_counter = 0\n",
    "\n",
    "# Variable for removing some of the input/target pairs in order to balance dataset\n",
    "indices_to_remove = []\n",
    "\n",
    "# Function for counting the number of targets that are 0\n",
    "# Once there are as many 0s as 1s, mark entries where the target is 0\n",
    "for i in range(shuffled_targets_all.shape[0]):\n",
    "    if shuffled_targets_all[i] == 0:\n",
    "        zero_targets_counter += 1\n",
    "        if zero_targets_counter > num_one_targets:\n",
    "            indices_to_remove.append(i)\n",
    "\n",
    "# New variable to contain the inputs and the targets, while deleting all indices marked \"to remove\" in the loop above.\n",
    "unscaled_balanced_inputs = np.delete(shuffled_unscaled_inputs_all, indices_to_remove, axis=0)\n",
    "balanced_targets = np.delete(shuffled_targets_all, indices_to_remove, axis=0)"
   ]
  },
  {
   "cell_type": "code",
   "execution_count": 4,
   "id": "092fe9cb",
   "metadata": {},
   "outputs": [],
   "source": [
    "# Standardize inputs\n",
    "scaled_inputs = preprocessing.scale(unscaled_balanced_inputs)"
   ]
  },
  {
   "cell_type": "code",
   "execution_count": 5,
   "id": "2b8e7f9a",
   "metadata": {},
   "outputs": [],
   "source": [
    "# Use shuffled indices to shuffle inputs and targets again before splitting data\n",
    "shuffled_indices = np.arange(scaled_inputs.shape[0])\n",
    "np.random.shuffle(shuffled_indices)\n",
    "\n",
    "shuffled_scaled_inputs = scaled_inputs[shuffled_indices]\n",
    "shuffled_targets = balanced_targets[shuffled_indices]"
   ]
  },
  {
   "cell_type": "code",
   "execution_count": 6,
   "id": "22a96007",
   "metadata": {},
   "outputs": [
    {
     "name": "stdout",
     "output_type": "stream",
     "text": [
      "1791.0 3579 0.5004191114836547\n",
      "219.0 447 0.4899328859060403\n",
      "227.0 448 0.5066964285714286\n"
     ]
    }
   ],
   "source": [
    "# Split dataset into train, validation, and test with 80-10-10 distribution\n",
    "samples_count = shuffled_scaled_inputs.shape[0]\n",
    "\n",
    "train_samples_count = int(0.8 * samples_count)\n",
    "validation_samples_count = int(0.1 * samples_count)\n",
    "test_samples_count = samples_count - train_samples_count - validation_samples_count\n",
    "\n",
    "train_inputs = shuffled_scaled_inputs[:train_samples_count]\n",
    "train_targets = shuffled_targets[:train_samples_count]\n",
    "\n",
    "validation_inputs = shuffled_scaled_inputs[train_samples_count:train_samples_count+validation_samples_count]\n",
    "validation_targets = shuffled_targets[train_samples_count:train_samples_count+validation_samples_count]\n",
    "\n",
    "test_inputs = shuffled_scaled_inputs[train_samples_count+validation_samples_count:]\n",
    "test_targets = shuffled_targets[train_samples_count+validation_samples_count:]\n",
    "\n",
    "# Check if datasets are still balanced\n",
    "print(np.sum(train_targets), train_samples_count, np.sum(train_targets) / train_samples_count)\n",
    "print(np.sum(validation_targets), validation_samples_count, np.sum(validation_targets) / validation_samples_count)\n",
    "print(np.sum(test_targets), test_samples_count, np.sum(test_targets) / test_samples_count)"
   ]
  },
  {
   "cell_type": "code",
   "execution_count": 7,
   "id": "83fccdd8",
   "metadata": {},
   "outputs": [],
   "source": [
    "# Save the three datasets in *.npz\n",
    "np.savez('Audiobooks_data_train', inputs=train_inputs, targets=train_targets)\n",
    "np.savez('Audiobooks_data_validation', inputs=validation_inputs, targets=validation_targets)\n",
    "np.savez('Audiobooks_data_test', inputs=test_inputs, targets=test_targets)"
   ]
  },
  {
   "cell_type": "code",
   "execution_count": null,
   "id": "06d8dce4",
   "metadata": {},
   "outputs": [],
   "source": []
  }
 ],
 "metadata": {
  "kernelspec": {
   "display_name": "py3TF2.0",
   "language": "python",
   "name": "py3tf2.0"
  },
  "language_info": {
   "codemirror_mode": {
    "name": "ipython",
    "version": 3
   },
   "file_extension": ".py",
   "mimetype": "text/x-python",
   "name": "python",
   "nbconvert_exporter": "python",
   "pygments_lexer": "ipython3",
   "version": "3.7.10"
  }
 },
 "nbformat": 4,
 "nbformat_minor": 5
}
